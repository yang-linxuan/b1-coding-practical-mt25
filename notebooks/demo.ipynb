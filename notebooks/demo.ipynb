{
 "cells": [
  {
   "cell_type": "code",
   "execution_count": 8,
   "metadata": {},
   "outputs": [
    {
     "name": "stdout",
     "output_type": "stream",
     "text": [
      "Current directory: c:\\Users\\linxu\\Documents\\Oxford\\Y3\\B1 Engineering Computation\\b1-coding-practical-mt25\\notebooks\n",
      "Project root: c:\\Users\\linxu\\Documents\\Oxford\\Y3\\B1 Engineering Computation\\b1-coding-practical-mt25\n",
      "\n",
      "Python path:\n",
      "c:\\Users\\linxu\\Documents\\Oxford\\Y3\\B1 Engineering Computation\\b1-coding-practical-mt25\n",
      "c:\\Users\\linxu\\AppData\\Local\\Programs\\Python\\Python313\\python313.zip\n",
      "c:\\Users\\linxu\\AppData\\Local\\Programs\\Python\\Python313\\DLLs\n",
      "c:\\Users\\linxu\\AppData\\Local\\Programs\\Python\\Python313\\Lib\n",
      "c:\\Users\\linxu\\AppData\\Local\\Programs\\Python\\Python313\n",
      "\n",
      "C:\\Users\\linxu\\AppData\\Roaming\\Python\\Python313\\site-packages\n",
      "C:\\Users\\linxu\\AppData\\Roaming\\Python\\Python313\\site-packages\\win32\n",
      "C:\\Users\\linxu\\AppData\\Roaming\\Python\\Python313\\site-packages\\win32\\lib\n",
      "C:\\Users\\linxu\\AppData\\Roaming\\Python\\Python313\\site-packages\\Pythonwin\n",
      "c:\\Users\\linxu\\AppData\\Local\\Programs\\Python\\Python313\\Lib\\site-packages\n",
      "c:\\Users\\linxu\\Documents\\Oxford\\Y3\\B1 Engineering Computation\n",
      "c:\\Users\\linxu\\Documents\\Oxford\\Y3\\B1 Engineering Computation\n",
      "c:\\Users\\linxu\\Documents\\Oxford\\Y3\\B1 Engineering Computation\n"
     ]
    }
   ],
   "source": [
    "# Add project root directory to Python path\n",
    "import os\n",
    "import sys\n",
    "\n",
    "# Get the absolute path to the project root directory (one level up from notebooks)\n",
    "notebook_dir = os.getcwd()  # Gets the current working directory\n",
    "project_root = os.path.abspath(os.path.join(notebook_dir, '..'))\n",
    "sys.path.insert(0, project_root)\n",
    "\n",
    "# Print paths to verify\n",
    "print(\"Current directory:\", notebook_dir)\n",
    "print(\"Project root:\", project_root)\n",
    "print(\"\\nPython path:\")\n",
    "for p in sys.path:\n",
    "    print(p)"
   ]
  },
  {
   "cell_type": "code",
   "execution_count": null,
   "metadata": {},
   "outputs": [],
   "source": [
    "# You can double-check your Python path like this...\n",
    "import sys  \n",
    "print(sys.path)"
   ]
  },
  {
   "cell_type": "markdown",
   "metadata": {},
   "source": [
    "# Simulate closed-loop\n",
    "After implementing your control functionality, you can simulate the closed-loop with code that looks something like this..."
   ]
  },
  {
   "cell_type": "code",
   "execution_count": null,
   "metadata": {},
   "outputs": [
    {
     "ename": "FileNotFoundError",
     "evalue": "[Errno 2] No such file or directory: 'c:\\\\Users\\\\linxu\\\\Documents\\\\Oxford\\\\Y3\\\\B1 Engineering Computation\\\\b1-coding-practical-mt25\\\\missions\\\\mission1.csv'",
     "output_type": "error",
     "traceback": [
      "\u001b[31m---------------------------------------------------------------------------\u001b[39m",
      "\u001b[31mFileNotFoundError\u001b[39m                         Traceback (most recent call last)",
      "\u001b[36mCell\u001b[39m\u001b[36m \u001b[39m\u001b[32mIn[11]\u001b[39m\u001b[32m, line 14\u001b[39m\n\u001b[32m     12\u001b[39m \u001b[38;5;66;03m# Instantiate your controller (depending on your implementation)\u001b[39;00m\n\u001b[32m     13\u001b[39m closed_loop = ClosedLoop(sub, controller)  \u001b[38;5;66;03m# Changed pd_control to controller\u001b[39;00m\n\u001b[32m---> \u001b[39m\u001b[32m14\u001b[39m mission = \u001b[43mMission\u001b[49m\u001b[43m.\u001b[49m\u001b[43mfrom_csv\u001b[49m\u001b[43m(\u001b[49m\u001b[43mos\u001b[49m\u001b[43m.\u001b[49m\u001b[43mpath\u001b[49m\u001b[43m.\u001b[49m\u001b[43mjoin\u001b[49m\u001b[43m(\u001b[49m\u001b[43mos\u001b[49m\u001b[43m.\u001b[49m\u001b[43mpath\u001b[49m\u001b[43m.\u001b[49m\u001b[43mdirname\u001b[49m\u001b[43m(\u001b[49m\u001b[43mos\u001b[49m\u001b[43m.\u001b[49m\u001b[43mgetcwd\u001b[49m\u001b[43m(\u001b[49m\u001b[43m)\u001b[49m\u001b[43m)\u001b[49m\u001b[43m,\u001b[49m\u001b[43m \u001b[49m\u001b[33;43m\"\u001b[39;49m\u001b[33;43mmissions\u001b[39;49m\u001b[33;43m\"\u001b[39;49m\u001b[43m,\u001b[49m\u001b[43m \u001b[49m\u001b[33;43m\"\u001b[39;49m\u001b[33;43mmission1.csv\u001b[39;49m\u001b[33;43m\"\u001b[39;49m\u001b[43m)\u001b[49m\u001b[43m)\u001b[49m\n\u001b[32m     16\u001b[39m trajectory = closed_loop.simulate_with_random_disturbances(mission)\n\u001b[32m     17\u001b[39m trajectory.plot_completed_mission(mission)\n",
      "\u001b[36mFile \u001b[39m\u001b[32mc:\\Users\\linxu\\Documents\\Oxford\\Y3\\B1 Engineering Computation\\b1-coding-practical-mt25\\uuv_mission\\dynamic.py:86\u001b[39m, in \u001b[36mMission.from_csv\u001b[39m\u001b[34m(cls, file_name)\u001b[39m\n\u001b[32m     83\u001b[39m cave_depth = []\n\u001b[32m     85\u001b[39m \u001b[38;5;66;03m# Read the CSV file\u001b[39;00m\n\u001b[32m---> \u001b[39m\u001b[32m86\u001b[39m \u001b[38;5;28;01mwith\u001b[39;00m \u001b[38;5;28;43mopen\u001b[39;49m\u001b[43m(\u001b[49m\u001b[43mfile_name\u001b[49m\u001b[43m,\u001b[49m\u001b[43m \u001b[49m\u001b[43mmode\u001b[49m\u001b[43m=\u001b[49m\u001b[33;43m'\u001b[39;49m\u001b[33;43mr\u001b[39;49m\u001b[33;43m'\u001b[39;49m\u001b[43m)\u001b[49m \u001b[38;5;28;01mas\u001b[39;00m csvfile:\n\u001b[32m     87\u001b[39m     reader = csv.reader(csvfile)\n\u001b[32m     88\u001b[39m     \u001b[38;5;28mnext\u001b[39m(reader)  \u001b[38;5;66;03m# Skip the header row\u001b[39;00m\n",
      "\u001b[31mFileNotFoundError\u001b[39m: [Errno 2] No such file or directory: 'c:\\\\Users\\\\linxu\\\\Documents\\\\Oxford\\\\Y3\\\\B1 Engineering Computation\\\\b1-coding-practical-mt25\\\\missions\\\\mission1.csv'"
     ]
    }
   ],
   "source": [
    "\n",
    "# Import relevant modules\n",
    "from uuv_mission import control\n",
    "from uuv_mission.dynamic import ClosedLoop, Submarine, Mission, Trajectory\n",
    "import numpy as np\n",
    "import matplotlib.pyplot as plt\n",
    "\n",
    "sub = Submarine()\n",
    "\n",
    "# Initialize the PD controller\n",
    "controller = control.PDController(kp=0.15, kd=0.6)\n",
    "\n",
    "# Instantiate your controller (depending on your implementation)\n",
    "closed_loop = ClosedLoop(sub, controller)  # Changed pd_control to controller\n",
    "\n",
    "# Define mission file path more robustly\n",
    "mission_file = os.path.join(project_root, \"data\", \"missions\", \"mission1.csv\")\n",
    "\n",
    "# Check if mission file exists\n",
    "if not os.path.exists(mission_file):\n",
    "    raise FileNotFoundError(f\"Mission file not found at: {mission_file}\\nPlease check if the file exists and is in the correct location.\")\n",
    "\n",
    "mission = Mission.from_csv(mission_file)\n",
    "\n",
    "trajectory = closed_loop.simulate_with_random_disturbances(mission)\n",
    "trajectory.plot_completed_mission(mission)"
   ]
  }
 ],
 "metadata": {
  "kernelspec": {
   "display_name": "Python 3",
   "language": "python",
   "name": "python3"
  },
  "language_info": {
   "codemirror_mode": {
    "name": "ipython",
    "version": 3
   },
   "file_extension": ".py",
   "mimetype": "text/x-python",
   "name": "python",
   "nbconvert_exporter": "python",
   "pygments_lexer": "ipython3",
   "version": "3.13.9"
  }
 },
 "nbformat": 4,
 "nbformat_minor": 2
}
